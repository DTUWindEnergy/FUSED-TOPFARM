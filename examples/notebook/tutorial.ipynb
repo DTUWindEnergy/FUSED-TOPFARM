{
 "cells": [
  {
   "cell_type": "markdown",
   "metadata": {},
   "source": [
    "Importing a few things"
   ]
  },
  {
   "cell_type": "code",
   "execution_count": 2,
   "metadata": {
    "collapsed": false
   },
   "outputs": [
    {
     "name": "stderr",
     "output_type": "stream",
     "text": [
      ":0: FutureWarning: IPython widgets are experimental and may change in the future.\n"
     ]
    }
   ],
   "source": [
    "# OpenMDAO imports\n",
    "from openmdao.main.datatypes.array import Array\n",
    "from openmdao.main.datatypes.float import Float\n",
    "from openmdao.main.datatypes.list import List\n",
    "from openmdao.main.component import Component\n",
    "\n",
    "\n",
    "\n",
    "# FUSED-Wind imports\n",
    "from fusedwind.plant_flow.asym import AEPMultipleWindRoses, AEPSingleWindRose, BaseAEPModel\n",
    "from fusedwind.interface import InterfaceSlot, implement_base\n",
    "from fusedwind.plant_flow.comp import GenericWindFarm\n",
    "\n",
    "# GCLarsen import\n",
    "#from gclarsen.fused import FGCLarsen\n",
    "\n",
    "from topfarm.tlib import TopfarmComponent\n",
    "\n",
    "# Other\n",
    "import numpy as np\n",
    "from scipy.interpolate import interp1d"
   ]
  },
  {
   "cell_type": "code",
   "execution_count": 2,
   "metadata": {
    "collapsed": false
   },
   "outputs": [
    {
     "ename": "ImportError",
     "evalue": "No module named gclarsen.fused",
     "output_type": "error",
     "traceback": [
      "\u001b[0;31m---------------------------------------------------------------------------\u001b[0m",
      "\u001b[0;31mImportError\u001b[0m                               Traceback (most recent call last)",
      "\u001b[0;32m<ipython-input-2-0f078269f316>\u001b[0m in \u001b[0;36m<module>\u001b[0;34m()\u001b[0m\n\u001b[1;32m     10\u001b[0m \u001b[0;34m\u001b[0m\u001b[0m\n\u001b[1;32m     11\u001b[0m \u001b[0;31m# Topfarm lib imports\u001b[0m\u001b[0;34m\u001b[0m\u001b[0;34m\u001b[0m\u001b[0m\n\u001b[0;32m---> 12\u001b[0;31m \u001b[0;32mfrom\u001b[0m \u001b[0mtopfarm\u001b[0m\u001b[0;34m.\u001b[0m\u001b[0maep\u001b[0m \u001b[0;32mimport\u001b[0m \u001b[0mAEP\u001b[0m\u001b[0;34m\u001b[0m\u001b[0m\n\u001b[0m\u001b[1;32m     13\u001b[0m \u001b[0;32mfrom\u001b[0m \u001b[0mtopfarm\u001b[0m\u001b[0;34m.\u001b[0m\u001b[0mlayout_distribution\u001b[0m \u001b[0;32mimport\u001b[0m \u001b[0mspiral\u001b[0m\u001b[0;34m,\u001b[0m \u001b[0mDistributeSpiral\u001b[0m\u001b[0;34m,\u001b[0m \u001b[0mDistributeXY\u001b[0m\u001b[0;34m,\u001b[0m \u001b[0mDistributeFilledPolygon\u001b[0m\u001b[0;34m\u001b[0m\u001b[0m\n\u001b[1;32m     14\u001b[0m \u001b[0;32mfrom\u001b[0m \u001b[0mtopfarm\u001b[0m\u001b[0;34m.\u001b[0m\u001b[0mplot\u001b[0m \u001b[0;32mimport\u001b[0m \u001b[0mOffshorePlot\u001b[0m\u001b[0;34m,\u001b[0m \u001b[0mPrintOutputs\u001b[0m\u001b[0;34m\u001b[0m\u001b[0m\n",
      "\u001b[0;32m/Users/pire/git/FUSED-TOPFARM/src/topfarm/aep.py\u001b[0m in \u001b[0;36m<module>\u001b[0;34m()\u001b[0m\n\u001b[1;32m     37\u001b[0m \u001b[0;34m\u001b[0m\u001b[0m\n\u001b[1;32m     38\u001b[0m \u001b[0;31m# GCLarsen import\u001b[0m\u001b[0;34m\u001b[0m\u001b[0;34m\u001b[0m\u001b[0m\n\u001b[0;32m---> 39\u001b[0;31m \u001b[0;32mfrom\u001b[0m \u001b[0mgclarsen\u001b[0m\u001b[0;34m.\u001b[0m\u001b[0mfused\u001b[0m \u001b[0;32mimport\u001b[0m \u001b[0mFGCLarsen\u001b[0m\u001b[0;34m\u001b[0m\u001b[0m\n\u001b[0m\u001b[1;32m     40\u001b[0m \u001b[0;34m\u001b[0m\u001b[0m\n\u001b[1;32m     41\u001b[0m \u001b[0;32mfrom\u001b[0m \u001b[0mtlib\u001b[0m \u001b[0;32mimport\u001b[0m \u001b[0mTopfarmComponent\u001b[0m\u001b[0;34m\u001b[0m\u001b[0m\n",
      "\u001b[0;31mImportError\u001b[0m: No module named gclarsen.fused"
     ]
    }
   ],
   "source": [
    "# OpenMDAO imports\n",
    "#from openmdao.main.api import Assembly\n",
    "#from openmdao.lib.datatypes.api import VarTree, Float, Slot, Array, List, Int, Str, Dict, Enum\n",
    "\n",
    "# FUSEDWind imports\n",
    "#from fusedwind.interface import implement_base, InterfaceSlot\n",
    "#from fusedwind.plant_flow.comp import GenericWindFarm\n",
    "from fusedwind.plant_flow.vt import GenericWindFarmTurbineLayout, WTPC, WeibullWindRoseVT, GenericWindRoseVT\n",
    "\n",
    "\n",
    "# Topfarm lib imports\n",
    "from topfarm.aep import AEP\n",
    "from topfarm.layout_distribution import spiral, DistributeSpiral, DistributeXY, DistributeFilledPolygon\n",
    "from topfarm.plot import OffshorePlot, PrintOutputs\n",
    "from topfarm.tlib import DistFromTurbines, PolyFill, document, DistFromBorders #,ConverHullArea\n",
    "from topfarm.foundation import FoundationLength\n",
    "from topfarm.elnet import ElNetLength, elnet\n",
    "from topfarm.optimizers import *\n",
    "from topfarm.topfarm import Topfarm\n",
    "\n",
    "#GCL imports\n",
    "from gclarsen.fusedwasp import PlantFromWWH, WTDescFromWTG\n",
    "from gclarsen.fused import FGCLarsen\n",
    "\n",
    "from numpy import *\n",
    "import numpy as np\n",
    "\n",
    "# For plotting\n",
    "import pylab as plt"
   ]
  },
  {
   "cell_type": "markdown",
   "metadata": {},
   "source": [
    "### Loading all the input data"
   ]
  },
  {
   "cell_type": "code",
   "execution_count": null,
   "metadata": {
    "collapsed": true
   },
   "outputs": [],
   "source": [
    "datadir = './'\n",
    "dat = loadtxt(datadir+'WaterDepth1.dat')\n",
    "X, Y = meshgrid(linspace(0., 1000., 50), linspace(0., 1000., 50))\n",
    "depth = array(zip(X.flatten(), Y.flatten(), dat.flatten()))\n",
    "borders = array([[200, 200], [150, 500], [200, 800], [600, 900], [700, 700], [900, 500], [800, 200], [500, 100], [200, 200]])\n",
    "baseline = array([[587.5, 223.07692308], [525., 346.15384615], [837.5, 530.76923077], [525., 530.76923077], [525., 838.46153846], [837.5, 469.23076923]])\n",
    "\n",
    "wt_desc = WTDescFromWTG(datadir+'V80-2MW-offshore.wtg').wt_desc\n",
    "wt_layout = GenericWindFarmTurbineLayout([WTPC(wt_desc=wt_desc, position=pos) for pos in baseline])\n",
    "\n",
    "\n",
    "# The wind rose\n",
    "weibull_array = np.array([[  0.00000000e+00,   3.59673400e-02,  9.22422800e+00,   2.38867200e+00],\n",
    "                         [  3.00000000e+01,   3.94977300e-02,   9.86435600e+00,   2.44726600e+00],\n",
    "                         [  6.00000000e+01,   5.17838000e-02,   9.65220200e+00,   2.41992200e+00],\n",
    "                         [  9.00000000e+01,   6.99794900e-02,   9.98217800e+00,   2.58789100e+00],\n",
    "                         [  1.20000000e+02,   8.36383000e-02,   1.00946000e+01,   2.74804700e+00],\n",
    "                         [  1.50000000e+02,   6.43412500e-02,   9.64369000e+00,   2.59179700e+00],\n",
    "                         [  1.80000000e+02,   8.64220000e-02,   9.63377500e+00,   2.58007800e+00],\n",
    "                         [  2.10000000e+02,   1.17690000e-01,   1.05678600e+01,   2.54492200e+00],\n",
    "                         [  2.40000000e+02,   1.51555100e-01,   1.14525200e+01,   2.46679700e+00],\n",
    "                         [  2.70000000e+02,   1.47361100e-01,   1.17423700e+01,   2.60351600e+00],\n",
    "                         [  3.00000000e+02,   1.00109800e-01,   1.16923200e+01,   2.62304700e+00],\n",
    "                         [  3.30000000e+02,   5.16542400e-02,   1.01385800e+01,   2.32226600e+00]])\n",
    "wind_rose = WeibullWindRoseVT()\n",
    "wind_rose.wind_directions = weibull_array[:,0]\n",
    "wind_rose.frequency = weibull_array[:,1]\n",
    "wind_rose.k = weibull_array[:,3]\n",
    "wind_rose.A = weibull_array[:,2]\n",
    "\n",
    "# Minimum distance between turbines\n",
    "dist_WT_D = 3.0"
   ]
  },
  {
   "cell_type": "markdown",
   "metadata": {},
   "source": [
    "#### Plotting the depth"
   ]
  },
  {
   "cell_type": "markdown",
   "metadata": {},
   "source": [
    "Some matplotlib options"
   ]
  },
  {
   "cell_type": "code",
   "execution_count": null,
   "metadata": {
    "collapsed": true
   },
   "outputs": [],
   "source": [
    "%matplotlib inline\n",
    "import pylab as plt\n",
    "plt.rcParams['axes.labelsize'] = 14\n",
    "plt.rcParams['legend.fontsize'] = 14\n",
    "plt.rcParams['axes.titleweight'] = 'bold'\n",
    "plt.rcParams['axes.titlesize'] = 14\n",
    "# To see all the options:\n",
    "#plt.rcParams.keys()"
   ]
  },
  {
   "cell_type": "code",
   "execution_count": null,
   "metadata": {
    "collapsed": false
   },
   "outputs": [],
   "source": [
    "N = 100\n",
    "X, Y = plt.meshgrid(plt.linspace(depth[:,0].min(), depth[:,0].max(), N), \n",
    "                    plt.linspace(depth[:,1].min(), depth[:,1].max(), N))\n",
    "Z = plt.griddata(depth[:,0],depth[:,1],depth[:,2],X,Y, interp='linear')\n",
    "\n",
    "fig = plt.figure(figsize=(6,6), dpi=2000)\n",
    "fs = 14\n",
    "ax = plt.subplot(111)\n",
    "plt.contourf(X,Y,Z, label='depth [m]')\n",
    "#ax.plot(wt_layout.wt_positions[:,0], wt_layout.wt_positions[:,1], 'or', label='baseline position')\n",
    "ax.scatter(wt_layout.wt_positions[:,0], wt_layout.wt_positions[:,1], wt_layout._wt_list('rotor_diameter'), label='baseline position')\n",
    "ax.plot(borders[:,0], borders[:,1], 'r--', label='border')\n",
    "ax.set_xlabel('x [m]'); \n",
    "ax.set_ylabel('y [m]')\n",
    "ax.axis('equal');\n",
    "ax.legend(loc='lower left')\n",
    "plt.colorbar().set_label('water depth [m]')"
   ]
  },
  {
   "cell_type": "markdown",
   "metadata": {},
   "source": [
    "The red points indicate the position of the baseline turbines, the contour plot illustrate the water depth in meters and the red line illustrates the position of the borders limiting the domain of exploration of the optimization."
   ]
  },
  {
   "cell_type": "markdown",
   "metadata": {},
   "source": [
    "#### Plot the wind rose"
   ]
  },
  {
   "cell_type": "code",
   "execution_count": null,
   "metadata": {
    "collapsed": false
   },
   "outputs": [],
   "source": [
    "fig = plt.figure(figsize=(12,5), dpi=1000)\n",
    "\n",
    "# Plotting the wind statistics\n",
    "ax1 = plt.subplot(121, polar=True)\n",
    "w = 2.*np.pi/len(wind_rose.frequency)\n",
    "b = ax1.bar(pi/2.0-np.array(wind_rose.wind_directions)/180.*np.pi - w/2.0, \n",
    "            np.array(wind_rose.frequency)*100, width=w)\n",
    "\n",
    "# Trick to set the right axes (by default it's not oriented as we are used to in the WE community)\n",
    "mirror = lambda d: 90.0 - d if d < 90.0 else 360.0 + (90.0 - d)\n",
    "ax1.set_xticklabels([u'%d\\xb0'%(mirror(d)) for d in linspace(0.0, 360.0,9)[:-1]]);\n",
    "ax1.set_title('Wind direction frequency');\n",
    "\n",
    "# Plotting the Weibull A parameter\n",
    "ax2 = plt.subplot(122, polar=True)\n",
    "b = ax2.bar(pi/2.0-np.array(wind_rose.wind_directions)/180.*np.pi - w/2.0, \n",
    "            np.array(wind_rose.A), width=w)\n",
    "ax2.set_xticklabels([u'%d\\xb0'%(mirror(d)) for d in linspace(0.0, 360.0,9)[:-1]]);\n",
    "ax2.set_title('Weibull A parameter per wind direction sectors');"
   ]
  },
  {
   "cell_type": "markdown",
   "metadata": {},
   "source": [
    "### Setting up TOPFARM"
   ]
  },
  {
   "cell_type": "markdown",
   "metadata": {},
   "source": [
    "#### Calculating the wind farm AEP"
   ]
  },
  {
   "cell_type": "code",
   "execution_count": null,
   "metadata": {
    "collapsed": true
   },
   "outputs": [],
   "source": [
    "ws = linspace(4, 25, 21)\n",
    "wd = linspace(0, 360, 37)[:-1]"
   ]
  },
  {
   "cell_type": "code",
   "execution_count": null,
   "metadata": {
    "collapsed": false
   },
   "outputs": [],
   "source": [
    "aep = AEP(wt_layout=wt_layout, \n",
    "          wind_rose=wind_rose, \n",
    "          wf=FGCLarsen(),\n",
    "          wind_speeds=ws,\n",
    "          wind_directions=wd,\n",
    "          scaling=1.0,\n",
    "          wt_positions=baseline)\n",
    "aep.run()\n",
    "print 'Net AEP=',aep.net_aep/1e6, 'MWh'"
   ]
  },
  {
   "cell_type": "markdown",
   "metadata": {},
   "source": [
    "Getting the inputs and outputs of the OpenMDAO components"
   ]
  },
  {
   "cell_type": "code",
   "execution_count": null,
   "metadata": {
    "collapsed": false
   },
   "outputs": [],
   "source": [
    "document(CONMINdriver)"
   ]
  },
  {
   "cell_type": "markdown",
   "metadata": {},
   "source": [
    "Optimize only the foundation length"
   ]
  },
  {
   "cell_type": "code",
   "execution_count": null,
   "metadata": {
    "collapsed": false
   },
   "outputs": [],
   "source": [
    "components = {\n",
    "    'foundation': FoundationLength(borders=borders, scaling=0.0, depth=depth),\n",
    "    'distribute': DistributeXY(wt_layout=wt_layout, borders=borders),\n",
    "    'elnet': ElNetLength(scaling=0.0),\n",
    "    'wt_dist': DistFromTurbines(scaling=wt_desc.rotor_diameter * dist_WT_D),\n",
    "    'dist_from_borders': DistFromBorders(wt_layout=wt_layout, borders=borders, scaling=0.0),\n",
    "    'plotting': OffshorePlot(baseline=baseline, borders=borders, depth=depth, distribution='xy', \n",
    "                             add_inputs=['elnet_length', 'foundation_length', 'min_dist' ],\n",
    "                             title='foundation_length'),\n",
    "    'driver': CONMINOpt()}\n",
    "#COBYLAOpt(rhobeg=1e-2)}\n",
    "\n",
    "workflows =   {'driver': ['distribute', 'foundation','wt_dist', 'elnet', 'dist_from_borders', 'plotting']}\n",
    "\n",
    "#objectives =  {'driver': 'foundation.foundation_length'}\n",
    "objectives =  {'driver': '0.5 * foundation.foundation_length + 0.5*elnet.elnet_length'}\n",
    "\n",
    "constraints = {'driver': ['wt_dist.min_dist>0.8', \n",
    "                          'elnet.elnet_length<1.1', \n",
    "                          'dist_from_borders'\n",
    "                          ]}\n",
    "\n",
    "design_variables = {'driver': 'distribute'}\n",
    "\n",
    "connections = {'distribute.wt_positions': ['foundation.wt_positions',\n",
    "                                            'wt_dist.wt_positions',\n",
    "                                            'plotting.wt_positions',\n",
    "                                           'elnet.wt_positions',\n",
    "                                          'dist_from_borders.wt_positions'],\n",
    "               'foundation.foundation_length': 'plotting.foundation_length',\n",
    "               'foundation.foundations': 'plotting.foundations',\n",
    "               'elnet.elnet_layout': 'plotting.elnet_layout',\n",
    "               'elnet.elnet_length': 'plotting.elnet_length',               \n",
    "               'wt_dist.min_dist': 'plotting.min_dist'}\n",
    "\n",
    "input_parameters = {}\n",
    "\n",
    "top = Topfarm(components, workflows, objectives, constraints, design_variables, connections, input_parameters)\n",
    "top.run()"
   ]
  },
  {
   "cell_type": "markdown",
   "metadata": {},
   "source": [
    "#### Optimization using the AEP"
   ]
  },
  {
   "cell_type": "code",
   "execution_count": null,
   "metadata": {
    "collapsed": false
   },
   "outputs": [],
   "source": [
    "components = {\n",
    "    'elnet': ElNetLength(scaling=0.0),\n",
    "    'foundation': FoundationLength(borders=borders, scaling=0.0, depth=depth),\n",
    "    'aep': AEP(wt_layout=wt_layout, \n",
    "               wind_rose=wind_rose, \n",
    "               wf=FGCLarsen(),\n",
    "               wind_speeds=[4, 8, 12],\n",
    "               wind_directions=linspace(0, 360, 12)[:-1],\n",
    "               scaling=0.0),\n",
    "    #'area': ConverHullArea(wt_layout=wt_layout, scaling=0.0),\n",
    "    'dist_from_borders': DistFromBorders(wt_layout=wt_layout, borders=borders, scaling=0.0),    \n",
    "    'wt_dist': DistFromTurbines(scaling=wt_desc.rotor_diameter * dist_WT_D),\n",
    "    'distribute': DistributeFilledPolygon(wt_layout=wt_layout, borders=borders),\n",
    "    'plotting': OffshorePlot(baseline=baseline, borders=borders, depth=depth, distribution='xy',\n",
    "                             add_inputs=['area', 'capacity_factor', 'elnet_length', 'net_aep', 'foundation_length', 'min_dist' ],\n",
    "                             title='capacity_factor'),\n",
    "    'driver': COBYLAOpt(rhobeg=1e-2)}\n",
    "workflows =   {'driver': ['distribute', 'foundation', 'elnet', 'aep', 'area', 'dist_from_borders', 'wt_dist', 'plotting']}\n",
    "\n",
    "objectives =  {'driver': '-aep.net_aep'}\n",
    "# objectives =  {'driver': '-aep.net_aep + 0.4*elnet.elnet_length'}\n",
    "#objectives =  {'driver': '-aep.capacity_factor/area.area'}\n",
    "\n",
    "constraints = {'driver': ['wt_dist.min_dist>0.8',\n",
    "                          'foundation.foundation_length<1.02'\n",
    "                         # 'dist_from_borders'\n",
    "                         #'foundation.foundation_length<1.02',\n",
    "                         #'elnet.elnet_length<1.02',\n",
    "                          ]}\n",
    "\n",
    "design_variables = {'driver': 'distribute'}\n",
    "\n",
    "connections = {'distribute.wt_positions': ['foundation.wt_positions',\n",
    "                                            'elnet.wt_positions',\n",
    "                                            'wt_dist.wt_positions',\n",
    "                                            'aep.wt_positions',\n",
    "                                            'plotting.wt_positions',\n",
    "                                           'dist_from_borders.wt_positions',\n",
    "                                           #'area.wt_positions'\n",
    "                                          ],\n",
    "               'foundation.foundation_length': 'plotting.foundation_length',\n",
    "               'foundation.foundations': 'plotting.foundations',\n",
    "               'elnet.elnet_layout': 'plotting.elnet_layout',\n",
    "               'elnet.elnet_length': 'plotting.elnet_length',\n",
    "               'wt_dist.min_dist': 'plotting.min_dist',\n",
    "               'aep.capacity_factor': 'plotting.capacity_factor',\n",
    "               'aep.net_aep': 'plotting.net_aep',\n",
    "               #'area.area': 'plotting.area'\n",
    "              }\n",
    "\n",
    "input_parameters = {}\n",
    "top = Topfarm(components, workflows, objectives, constraints, design_variables, connections, input_parameters)\n",
    "top.run()"
   ]
  },
  {
   "cell_type": "code",
   "execution_count": null,
   "metadata": {
    "collapsed": true
   },
   "outputs": [],
   "source": [
    "baseline = top.distribute.wt_positions"
   ]
  }
 ],
 "metadata": {
  "kernelspec": {
   "display_name": "Python 2",
   "language": "python",
   "name": "python2"
  },
  "language_info": {
   "codemirror_mode": {
    "name": "ipython",
    "version": 2
   },
   "file_extension": ".py",
   "mimetype": "text/x-python",
   "name": "python",
   "nbconvert_exporter": "python",
   "pygments_lexer": "ipython2",
   "version": "2.7.6"
  }
 },
 "nbformat": 4,
 "nbformat_minor": 0
}
