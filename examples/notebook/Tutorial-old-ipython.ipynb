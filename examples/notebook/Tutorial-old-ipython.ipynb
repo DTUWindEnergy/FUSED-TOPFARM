{
 "metadata": {
  "name": "",
  "signature": "sha256:f3e41a1552ac76a9f4a348a596f99dc4840257483be69e226af6d2f6f2a1dc43"
 },
 "nbformat": 3,
 "nbformat_minor": 0,
 "worksheets": [
  {
   "cells": [
    {
     "cell_type": "code",
     "collapsed": false,
     "input": [
      "# OpenMDAO imports\n",
      "from openmdao.main.datatypes.array import Array\n",
      "from openmdao.main.datatypes.float import Float\n",
      "from openmdao.main.datatypes.list import List\n",
      "from openmdao.main.component import Component\n",
      "\n",
      "\n",
      "# FUSED-Wind imports\n",
      "from fusedwind.plant_flow.asym import AEPMultipleWindRoses, AEPSingleWindRose, BaseAEPModel\n",
      "from fusedwind.interface import InterfaceSlot, implement_base\n",
      "from fusedwind.plant_flow.comp import GenericWindFarm\n",
      "\n",
      "# GCLarsen import\n",
      "#from gclarsen.fused import FGCLarsen\n",
      "\n",
      "from topfarm.tlib import TopfarmComponent\n",
      "\n",
      "# Other\n",
      "import numpy as np\n",
      "from scipy.interpolate import interp1d"
     ],
     "language": "python",
     "metadata": {},
     "outputs": [
      {
       "output_type": "stream",
       "stream": "stderr",
       "text": [
        "/Users/JPM/OpenMDAO/lib/python2.7/site-packages/openmdao.examples.enginedesign-0.10.3.2-py2.7-macosx-10.10-intel.egg/openmdao/__init__.py:3: UserWarning: Module argparse was already imported from /System/Library/Frameworks/Python.framework/Versions/2.7/lib/python2.7/argparse.pyc, but /Users/JPM/OpenMDAO/lib/python2.7/site-packages/argparse-1.2.1-py2.7.egg is being added to sys.path\n",
        "  import pkg_resources\n"
       ]
      }
     ],
     "prompt_number": 1
    },
    {
     "cell_type": "code",
     "collapsed": false,
     "input": [
      "# OpenMDAO imports\n",
      "#from openmdao.main.api import Assembly\n",
      "#from openmdao.lib.datatypes.api import VarTree, Float, Slot, Array, List, Int, Str, Dict, Enum\n",
      "\n",
      "# FUSEDWind imports\n",
      "#from fusedwind.interface import implement_base, InterfaceSlot\n",
      "#from fusedwind.plant_flow.comp import GenericWindFarm\n",
      "from fusedwind.plant_flow.vt import GenericWindFarmTurbineLayout, WTPC, WeibullWindRoseVT, GenericWindRoseVT\n",
      "\n",
      "\n",
      "# Topfarm lib imports\n",
      "from topfarm.aep import AEP\n",
      "from topfarm.layout_distribution import spiral, DistributeSpiral, DistributeXY, DistributeFilledPolygon\n",
      "from topfarm.plot import OffshorePlot, PrintOutputs\n",
      "from topfarm.tlib import ConverHullArea, DistFromTurbines, PolyFill, document, DistFromBorders\n",
      "from topfarm.foundation import FoundationLength\n",
      "from topfarm.elnet import ElNetLength, elnet\n",
      "from topfarm.optimizers import *\n",
      "from topfarm.topfarm import Topfarm\n",
      "\n",
      "#GCL imports\n",
      "from gclarsen.fusedwasp import PlantFromWWH, WTDescFromWTG\n",
      "from gclarsen.fused import FGCLarsen\n",
      "\n",
      "from numpy import *\n",
      "import numpy as np\n",
      "\n",
      "# For plotting\n",
      "import pylab as plt"
     ],
     "language": "python",
     "metadata": {},
     "outputs": [
      {
       "ename": "ImportError",
       "evalue": "No module named pyOpt",
       "output_type": "pyerr",
       "traceback": [
        "\u001b[0;31m---------------------------------------------------------------------------\u001b[0m\n\u001b[0;31mImportError\u001b[0m                               Traceback (most recent call last)",
        "\u001b[0;32m<ipython-input-2-9ce590d997da>\u001b[0m in \u001b[0;36m<module>\u001b[0;34m()\u001b[0m\n\u001b[1;32m     16\u001b[0m \u001b[0;32mfrom\u001b[0m \u001b[0mtopfarm\u001b[0m\u001b[0;34m.\u001b[0m\u001b[0mfoundation\u001b[0m \u001b[0;32mimport\u001b[0m \u001b[0mFoundationLength\u001b[0m\u001b[0;34m\u001b[0m\u001b[0m\n\u001b[1;32m     17\u001b[0m \u001b[0;32mfrom\u001b[0m \u001b[0mtopfarm\u001b[0m\u001b[0;34m.\u001b[0m\u001b[0melnet\u001b[0m \u001b[0;32mimport\u001b[0m \u001b[0mElNetLength\u001b[0m\u001b[0;34m,\u001b[0m \u001b[0melnet\u001b[0m\u001b[0;34m\u001b[0m\u001b[0m\n\u001b[0;32m---> 18\u001b[0;31m \u001b[0;32mfrom\u001b[0m \u001b[0mtopfarm\u001b[0m\u001b[0;34m.\u001b[0m\u001b[0moptimizers\u001b[0m \u001b[0;32mimport\u001b[0m \u001b[0;34m*\u001b[0m\u001b[0;34m\u001b[0m\u001b[0m\n\u001b[0m\u001b[1;32m     19\u001b[0m \u001b[0;32mfrom\u001b[0m \u001b[0mtopfarm\u001b[0m\u001b[0;34m.\u001b[0m\u001b[0mtopfarm\u001b[0m \u001b[0;32mimport\u001b[0m \u001b[0mTopfarm\u001b[0m\u001b[0;34m\u001b[0m\u001b[0m\n\u001b[1;32m     20\u001b[0m \u001b[0;34m\u001b[0m\u001b[0m\n",
        "\u001b[0;32m/Users/JPM/OpenMDAO/TOPFARM/src/topfarm/optimizers.py\u001b[0m in \u001b[0;36m<module>\u001b[0;34m()\u001b[0m\n\u001b[1;32m     26\u001b[0m \u001b[0;34m\u001b[0m\u001b[0m\n\u001b[1;32m     27\u001b[0m \u001b[0;32mfrom\u001b[0m \u001b[0mopenmdao\u001b[0m\u001b[0;34m.\u001b[0m\u001b[0mlib\u001b[0m\u001b[0;34m.\u001b[0m\u001b[0mdrivers\u001b[0m\u001b[0;34m.\u001b[0m\u001b[0mapi\u001b[0m \u001b[0;32mimport\u001b[0m \u001b[0mCOBYLAdriver\u001b[0m\u001b[0;34m,\u001b[0m \u001b[0mCONMINdriver\u001b[0m\u001b[0;34m,\u001b[0m \u001b[0mNEWSUMTdriver\u001b[0m\u001b[0;34m,\u001b[0m \u001b[0mSLSQPdriver\u001b[0m\u001b[0;34m,\u001b[0m \u001b[0mGenetic\u001b[0m\u001b[0;34m\u001b[0m\u001b[0m\n\u001b[0;32m---> 28\u001b[0;31m \u001b[0;32mfrom\u001b[0m \u001b[0mpyopt_driver\u001b[0m\u001b[0;34m.\u001b[0m\u001b[0mpyopt_driver\u001b[0m \u001b[0;32mimport\u001b[0m \u001b[0mpyOptDriver\u001b[0m\u001b[0;34m\u001b[0m\u001b[0m\n\u001b[0m\u001b[1;32m     29\u001b[0m \u001b[0;32mfrom\u001b[0m \u001b[0mopenmdao\u001b[0m\u001b[0;34m.\u001b[0m\u001b[0mutil\u001b[0m\u001b[0;34m.\u001b[0m\u001b[0mtestutil\u001b[0m \u001b[0;32mimport\u001b[0m \u001b[0massert_rel_error\u001b[0m\u001b[0;34m,\u001b[0m \u001b[0massert_raises\u001b[0m\u001b[0;34m\u001b[0m\u001b[0m\n\u001b[1;32m     30\u001b[0m \u001b[0;32mimport\u001b[0m \u001b[0mos\u001b[0m\u001b[0;34m.\u001b[0m\u001b[0mpath\u001b[0m \u001b[0;32mas\u001b[0m \u001b[0mpath\u001b[0m\u001b[0;34m\u001b[0m\u001b[0m\n",
        "\u001b[0;32m/Users/JPM/OpenMDAO/pyopt_driver/src/pyopt_driver/pyopt_driver.py\u001b[0m in \u001b[0;36m<module>\u001b[0;34m()\u001b[0m\n\u001b[1;32m      9\u001b[0m \u001b[0;32mfrom\u001b[0m \u001b[0mnumpy\u001b[0m \u001b[0;32mimport\u001b[0m \u001b[0marray\u001b[0m\u001b[0;34m,\u001b[0m \u001b[0mfloat32\u001b[0m\u001b[0;34m,\u001b[0m \u001b[0mfloat64\u001b[0m\u001b[0;34m,\u001b[0m \u001b[0mint32\u001b[0m\u001b[0;34m,\u001b[0m \u001b[0mint64\u001b[0m\u001b[0;34m\u001b[0m\u001b[0m\n\u001b[1;32m     10\u001b[0m \u001b[0;34m\u001b[0m\u001b[0m\n\u001b[0;32m---> 11\u001b[0;31m \u001b[0;32mfrom\u001b[0m \u001b[0mpyOpt\u001b[0m \u001b[0;32mimport\u001b[0m \u001b[0mOptimization\u001b[0m\u001b[0;34m\u001b[0m\u001b[0m\n\u001b[0m\u001b[1;32m     12\u001b[0m \u001b[0;34m\u001b[0m\u001b[0m\n\u001b[1;32m     13\u001b[0m \u001b[0;32mfrom\u001b[0m \u001b[0mopenmdao\u001b[0m\u001b[0;34m.\u001b[0m\u001b[0mmain\u001b[0m\u001b[0;34m.\u001b[0m\u001b[0mapi\u001b[0m \u001b[0;32mimport\u001b[0m \u001b[0mDriver\u001b[0m\u001b[0;34m\u001b[0m\u001b[0m\n",
        "\u001b[0;31mImportError\u001b[0m: No module named pyOpt"
       ]
      }
     ],
     "prompt_number": 2
    },
    {
     "cell_type": "code",
     "collapsed": false,
     "input": [
      "datadir = '/FUSED-TOPFARM/src/topfarm/test/data/'\n",
      "dat = loadtxt(datadir+'WaterDepth1.dat')\n",
      "X, Y = meshgrid(linspace(0., 1000., 50), linspace(0., 1000., 50))\n",
      "depth = array(zip(X.flatten(), Y.flatten(), dat.flatten()))\n",
      "borders = array([[200, 200], [150, 500], [200, 800], [600, 900], [700, 700], [900, 500], [800, 200], [500, 100], [200, 200]])\n",
      "baseline = array([[587.5, 223.07692308], [525., 346.15384615], [837.5, 530.76923077], [525., 530.76923077], [525., 838.46153846], [837.5, 469.23076923]])\n",
      "\n",
      "wt_desc = WTDescFromWTG(datadir+'V80-2MW-offshore.wtg').wt_desc\n",
      "wt_layout = GenericWindFarmTurbineLayout([WTPC(wt_desc=wt_desc, position=pos) for pos in baseline])\n",
      "\n",
      "\n",
      "# The wind rose\n",
      "weibull_array = np.array([[  0.00000000e+00,   3.59673400e-02,  9.22422800e+00,   2.38867200e+00],\n",
      "                         [  3.00000000e+01,   3.94977300e-02,   9.86435600e+00,   2.44726600e+00],\n",
      "                         [  6.00000000e+01,   5.17838000e-02,   9.65220200e+00,   2.41992200e+00],\n",
      "                         [  9.00000000e+01,   6.99794900e-02,   9.98217800e+00,   2.58789100e+00],\n",
      "                         [  1.20000000e+02,   8.36383000e-02,   1.00946000e+01,   2.74804700e+00],\n",
      "                         [  1.50000000e+02,   6.43412500e-02,   9.64369000e+00,   2.59179700e+00],\n",
      "                         [  1.80000000e+02,   8.64220000e-02,   9.63377500e+00,   2.58007800e+00],\n",
      "                         [  2.10000000e+02,   1.17690000e-01,   1.05678600e+01,   2.54492200e+00],\n",
      "                         [  2.40000000e+02,   1.51555100e-01,   1.14525200e+01,   2.46679700e+00],\n",
      "                         [  2.70000000e+02,   1.47361100e-01,   1.17423700e+01,   2.60351600e+00],\n",
      "                         [  3.00000000e+02,   1.00109800e-01,   1.16923200e+01,   2.62304700e+00],\n",
      "                         [  3.30000000e+02,   5.16542400e-02,   1.01385800e+01,   2.32226600e+00]])\n",
      "wind_rose = WeibullWindRoseVT()\n",
      "wind_rose.wind_directions = weibull_array[:,0]\n",
      "wind_rose.frequency = weibull_array[:,1]\n",
      "wind_rose.k = weibull_array[:,3]\n",
      "wind_rose.A = weibull_array[:,2]\n",
      "\n",
      "# Minimum distance between turbines\n",
      "dist_WT_D = 3.0\n",
      "\n",
      "\n",
      "# #### Plotting the depth\n",
      "\n",
      "# Some matplotlib options"
     ],
     "language": "python",
     "metadata": {},
     "outputs": [
      {
       "ename": "NameError",
       "evalue": "name 'loadtxt' is not defined",
       "output_type": "pyerr",
       "traceback": [
        "\u001b[0;31m---------------------------------------------------------------------------\u001b[0m\n\u001b[0;31mNameError\u001b[0m                                 Traceback (most recent call last)",
        "\u001b[0;32m<ipython-input-3-3362c3cd19ef>\u001b[0m in \u001b[0;36m<module>\u001b[0;34m()\u001b[0m\n\u001b[1;32m      1\u001b[0m \u001b[0mdatadir\u001b[0m \u001b[0;34m=\u001b[0m \u001b[0;34m'/FUSED-TOPFARM/src/topfarm/test/data/'\u001b[0m\u001b[0;34m\u001b[0m\u001b[0m\n\u001b[0;32m----> 2\u001b[0;31m \u001b[0mdat\u001b[0m \u001b[0;34m=\u001b[0m \u001b[0mloadtxt\u001b[0m\u001b[0;34m(\u001b[0m\u001b[0mdatadir\u001b[0m\u001b[0;34m+\u001b[0m\u001b[0;34m'WaterDepth1.dat'\u001b[0m\u001b[0;34m)\u001b[0m\u001b[0;34m\u001b[0m\u001b[0m\n\u001b[0m\u001b[1;32m      3\u001b[0m \u001b[0mX\u001b[0m\u001b[0;34m,\u001b[0m \u001b[0mY\u001b[0m \u001b[0;34m=\u001b[0m \u001b[0mmeshgrid\u001b[0m\u001b[0;34m(\u001b[0m\u001b[0mlinspace\u001b[0m\u001b[0;34m(\u001b[0m\u001b[0;36m0.\u001b[0m\u001b[0;34m,\u001b[0m \u001b[0;36m1000.\u001b[0m\u001b[0;34m,\u001b[0m \u001b[0;36m50\u001b[0m\u001b[0;34m)\u001b[0m\u001b[0;34m,\u001b[0m \u001b[0mlinspace\u001b[0m\u001b[0;34m(\u001b[0m\u001b[0;36m0.\u001b[0m\u001b[0;34m,\u001b[0m \u001b[0;36m1000.\u001b[0m\u001b[0;34m,\u001b[0m \u001b[0;36m50\u001b[0m\u001b[0;34m)\u001b[0m\u001b[0;34m)\u001b[0m\u001b[0;34m\u001b[0m\u001b[0m\n\u001b[1;32m      4\u001b[0m \u001b[0mdepth\u001b[0m \u001b[0;34m=\u001b[0m \u001b[0marray\u001b[0m\u001b[0;34m(\u001b[0m\u001b[0mzip\u001b[0m\u001b[0;34m(\u001b[0m\u001b[0mX\u001b[0m\u001b[0;34m.\u001b[0m\u001b[0mflatten\u001b[0m\u001b[0;34m(\u001b[0m\u001b[0;34m)\u001b[0m\u001b[0;34m,\u001b[0m \u001b[0mY\u001b[0m\u001b[0;34m.\u001b[0m\u001b[0mflatten\u001b[0m\u001b[0;34m(\u001b[0m\u001b[0;34m)\u001b[0m\u001b[0;34m,\u001b[0m \u001b[0mdat\u001b[0m\u001b[0;34m.\u001b[0m\u001b[0mflatten\u001b[0m\u001b[0;34m(\u001b[0m\u001b[0;34m)\u001b[0m\u001b[0;34m)\u001b[0m\u001b[0;34m)\u001b[0m\u001b[0;34m\u001b[0m\u001b[0m\n\u001b[1;32m      5\u001b[0m \u001b[0mborders\u001b[0m \u001b[0;34m=\u001b[0m \u001b[0marray\u001b[0m\u001b[0;34m(\u001b[0m\u001b[0;34m[\u001b[0m\u001b[0;34m[\u001b[0m\u001b[0;36m200\u001b[0m\u001b[0;34m,\u001b[0m \u001b[0;36m200\u001b[0m\u001b[0;34m]\u001b[0m\u001b[0;34m,\u001b[0m \u001b[0;34m[\u001b[0m\u001b[0;36m150\u001b[0m\u001b[0;34m,\u001b[0m \u001b[0;36m500\u001b[0m\u001b[0;34m]\u001b[0m\u001b[0;34m,\u001b[0m \u001b[0;34m[\u001b[0m\u001b[0;36m200\u001b[0m\u001b[0;34m,\u001b[0m \u001b[0;36m800\u001b[0m\u001b[0;34m]\u001b[0m\u001b[0;34m,\u001b[0m \u001b[0;34m[\u001b[0m\u001b[0;36m600\u001b[0m\u001b[0;34m,\u001b[0m \u001b[0;36m900\u001b[0m\u001b[0;34m]\u001b[0m\u001b[0;34m,\u001b[0m \u001b[0;34m[\u001b[0m\u001b[0;36m700\u001b[0m\u001b[0;34m,\u001b[0m \u001b[0;36m700\u001b[0m\u001b[0;34m]\u001b[0m\u001b[0;34m,\u001b[0m \u001b[0;34m[\u001b[0m\u001b[0;36m900\u001b[0m\u001b[0;34m,\u001b[0m \u001b[0;36m500\u001b[0m\u001b[0;34m]\u001b[0m\u001b[0;34m,\u001b[0m \u001b[0;34m[\u001b[0m\u001b[0;36m800\u001b[0m\u001b[0;34m,\u001b[0m \u001b[0;36m200\u001b[0m\u001b[0;34m]\u001b[0m\u001b[0;34m,\u001b[0m \u001b[0;34m[\u001b[0m\u001b[0;36m500\u001b[0m\u001b[0;34m,\u001b[0m \u001b[0;36m100\u001b[0m\u001b[0;34m]\u001b[0m\u001b[0;34m,\u001b[0m \u001b[0;34m[\u001b[0m\u001b[0;36m200\u001b[0m\u001b[0;34m,\u001b[0m \u001b[0;36m200\u001b[0m\u001b[0;34m]\u001b[0m\u001b[0;34m]\u001b[0m\u001b[0;34m)\u001b[0m\u001b[0;34m\u001b[0m\u001b[0m\n",
        "\u001b[0;31mNameError\u001b[0m: name 'loadtxt' is not defined"
       ]
      }
     ],
     "prompt_number": 3
    },
    {
     "cell_type": "code",
     "collapsed": false,
     "input": [
      "get_ipython().magic(u'matplotlib inline')\n",
      "import pylab as plt\n",
      "plt.rcParams['axes.labelsize'] = 14\n",
      "plt.rcParams['legend.fontsize'] = 14\n",
      "plt.rcParams['axes.titleweight'] = 'bold'\n",
      "plt.rcParams['axes.titlesize'] = 14\n",
      "# To see all the options:\n",
      "#plt.rcParams.keys()"
     ],
     "language": "python",
     "metadata": {},
     "outputs": [],
     "prompt_number": 4
    },
    {
     "cell_type": "code",
     "collapsed": false,
     "input": [
      "N = 100\n",
      "X, Y = plt.meshgrid(plt.linspace(depth[:,0].min(), depth[:,0].max(), N), \n",
      "                    plt.linspace(depth[:,1].min(), depth[:,1].max(), N))\n",
      "Z = plt.griddata(depth[:,0],depth[:,1],depth[:,2],X,Y, interp='linear')\n",
      "\n",
      "fig = plt.figure(figsize=(6,6), dpi=2000)\n",
      "fs = 14\n",
      "ax = plt.subplot(111)\n",
      "plt.contourf(X,Y,Z, label='depth [m]')\n",
      "#ax.plot(wt_layout.wt_positions[:,0], wt_layout.wt_positions[:,1], 'or', label='baseline position')\n",
      "ax.scatter(wt_layout.wt_positions[:,0], wt_layout.wt_positions[:,1], wt_layout._wt_list('rotor_diameter'), label='baseline position')\n",
      "ax.plot(borders[:,0], borders[:,1], 'r--', label='border')\n",
      "ax.set_xlabel('x [m]'); \n",
      "ax.set_ylabel('y [m]')\n",
      "ax.axis('equal');\n",
      "ax.legend(loc='lower left')\n",
      "plt.colorbar().set_label('water depth [m]')\n"
     ],
     "language": "python",
     "metadata": {},
     "outputs": [
      {
       "ename": "NameError",
       "evalue": "name 'depth' is not defined",
       "output_type": "pyerr",
       "traceback": [
        "\u001b[0;31m---------------------------------------------------------------------------\u001b[0m\n\u001b[0;31mNameError\u001b[0m                                 Traceback (most recent call last)",
        "\u001b[0;32m<ipython-input-6-84a8362064bf>\u001b[0m in \u001b[0;36m<module>\u001b[0;34m()\u001b[0m\n\u001b[1;32m      1\u001b[0m \u001b[0mN\u001b[0m \u001b[0;34m=\u001b[0m \u001b[0;36m100\u001b[0m\u001b[0;34m\u001b[0m\u001b[0m\n\u001b[0;32m----> 2\u001b[0;31m X, Y = plt.meshgrid(plt.linspace(depth[:,0].min(), depth[:,0].max(), N), \n\u001b[0m\u001b[1;32m      3\u001b[0m                     plt.linspace(depth[:,1].min(), depth[:,1].max(), N))\n\u001b[1;32m      4\u001b[0m \u001b[0mZ\u001b[0m \u001b[0;34m=\u001b[0m \u001b[0mplt\u001b[0m\u001b[0;34m.\u001b[0m\u001b[0mgriddata\u001b[0m\u001b[0;34m(\u001b[0m\u001b[0mdepth\u001b[0m\u001b[0;34m[\u001b[0m\u001b[0;34m:\u001b[0m\u001b[0;34m,\u001b[0m\u001b[0;36m0\u001b[0m\u001b[0;34m]\u001b[0m\u001b[0;34m,\u001b[0m\u001b[0mdepth\u001b[0m\u001b[0;34m[\u001b[0m\u001b[0;34m:\u001b[0m\u001b[0;34m,\u001b[0m\u001b[0;36m1\u001b[0m\u001b[0;34m]\u001b[0m\u001b[0;34m,\u001b[0m\u001b[0mdepth\u001b[0m\u001b[0;34m[\u001b[0m\u001b[0;34m:\u001b[0m\u001b[0;34m,\u001b[0m\u001b[0;36m2\u001b[0m\u001b[0;34m]\u001b[0m\u001b[0;34m,\u001b[0m\u001b[0mX\u001b[0m\u001b[0;34m,\u001b[0m\u001b[0mY\u001b[0m\u001b[0;34m,\u001b[0m \u001b[0minterp\u001b[0m\u001b[0;34m=\u001b[0m\u001b[0;34m'linear'\u001b[0m\u001b[0;34m)\u001b[0m\u001b[0;34m\u001b[0m\u001b[0m\n\u001b[1;32m      5\u001b[0m \u001b[0;34m\u001b[0m\u001b[0m\n",
        "\u001b[0;31mNameError\u001b[0m: name 'depth' is not defined"
       ]
      }
     ],
     "prompt_number": 6
    },
    {
     "cell_type": "code",
     "collapsed": false,
     "input": [
      "fig = plt.figure(figsize=(12,5), dpi=1000)\n",
      "\n",
      "# Plotting the wind statistics\n",
      "ax1 = plt.subplot(121, polar=True)\n",
      "w = 2.*np.pi/len(wind_rose.frequency)\n",
      "b = ax1.bar(pi/2.0-np.array(wind_rose.wind_directions)/180.*np.pi - w/2.0, \n",
      "            np.array(wind_rose.frequency)*100, width=w)\n",
      "\n",
      "# Trick to set the right axes (by default it's not oriented as we are used to in the WE community)\n",
      "mirror = lambda d: 90.0 - d if d < 90.0 else 360.0 + (90.0 - d)\n",
      "ax1.set_xticklabels([u'%d\\xb0'%(mirror(d)) for d in linspace(0.0, 360.0,9)[:-1]]);\n",
      "ax1.set_title('Wind direction frequency');\n",
      "\n",
      "# Plotting the Weibull A parameter\n",
      "ax2 = plt.subplot(122, polar=True)\n",
      "b = ax2.bar(pi/2.0-np.array(wind_rose.wind_directions)/180.*np.pi - w/2.0, \n",
      "            np.array(wind_rose.A), width=w)\n",
      "ax2.set_xticklabels([u'%d\\xb0'%(mirror(d)) for d in linspace(0.0, 360.0,9)[:-1]]);\n",
      "ax2.set_title('Weibull A parameter per wind direction sectors');\n"
     ],
     "language": "python",
     "metadata": {},
     "outputs": [
      {
       "ename": "NameError",
       "evalue": "name 'np' is not defined",
       "output_type": "pyerr",
       "traceback": [
        "\u001b[0;31m---------------------------------------------------------------------------\u001b[0m\n\u001b[0;31mNameError\u001b[0m                                 Traceback (most recent call last)",
        "\u001b[0;32m<ipython-input-7-fb185b44f002>\u001b[0m in \u001b[0;36m<module>\u001b[0;34m()\u001b[0m\n\u001b[1;32m      3\u001b[0m \u001b[0;31m# Plotting the wind statistics\u001b[0m\u001b[0;34m\u001b[0m\u001b[0;34m\u001b[0m\u001b[0m\n\u001b[1;32m      4\u001b[0m \u001b[0max1\u001b[0m \u001b[0;34m=\u001b[0m \u001b[0mplt\u001b[0m\u001b[0;34m.\u001b[0m\u001b[0msubplot\u001b[0m\u001b[0;34m(\u001b[0m\u001b[0;36m121\u001b[0m\u001b[0;34m,\u001b[0m \u001b[0mpolar\u001b[0m\u001b[0;34m=\u001b[0m\u001b[0mTrue\u001b[0m\u001b[0;34m)\u001b[0m\u001b[0;34m\u001b[0m\u001b[0m\n\u001b[0;32m----> 5\u001b[0;31m \u001b[0mw\u001b[0m \u001b[0;34m=\u001b[0m \u001b[0;36m2.\u001b[0m\u001b[0;34m*\u001b[0m\u001b[0mnp\u001b[0m\u001b[0;34m.\u001b[0m\u001b[0mpi\u001b[0m\u001b[0;34m/\u001b[0m\u001b[0mlen\u001b[0m\u001b[0;34m(\u001b[0m\u001b[0mwind_rose\u001b[0m\u001b[0;34m.\u001b[0m\u001b[0mfrequency\u001b[0m\u001b[0;34m)\u001b[0m\u001b[0;34m\u001b[0m\u001b[0m\n\u001b[0m\u001b[1;32m      6\u001b[0m b = ax1.bar(pi/2.0-np.array(wind_rose.wind_directions)/180.*np.pi - w/2.0, \n\u001b[1;32m      7\u001b[0m             np.array(wind_rose.frequency)*100, width=w)\n",
        "\u001b[0;31mNameError\u001b[0m: name 'np' is not defined"
       ]
      },
      {
       "metadata": {},
       "output_type": "display_data",
       "png": "[encoded data removed]",
       "text": [
        "<matplotlib.figure.Figure at 0x10b8c4350>"
       ]
      }
     ],
     "prompt_number": 7
    },
    {
     "cell_type": "code",
     "collapsed": false,
     "input": [
      "ws = linspace(4, 25, 21)\n",
      "wd = linspace(0, 360, 37)[:-1]\n"
     ],
     "language": "python",
     "metadata": {},
     "outputs": [
      {
       "ename": "NameError",
       "evalue": "name 'linspace' is not defined",
       "output_type": "pyerr",
       "traceback": [
        "\u001b[0;31m---------------------------------------------------------------------------\u001b[0m\n\u001b[0;31mNameError\u001b[0m                                 Traceback (most recent call last)",
        "\u001b[0;32m<ipython-input-8-610092994fdb>\u001b[0m in \u001b[0;36m<module>\u001b[0;34m()\u001b[0m\n\u001b[0;32m----> 1\u001b[0;31m \u001b[0mws\u001b[0m \u001b[0;34m=\u001b[0m \u001b[0mlinspace\u001b[0m\u001b[0;34m(\u001b[0m\u001b[0;36m4\u001b[0m\u001b[0;34m,\u001b[0m \u001b[0;36m25\u001b[0m\u001b[0;34m,\u001b[0m \u001b[0;36m21\u001b[0m\u001b[0;34m)\u001b[0m\u001b[0;34m\u001b[0m\u001b[0m\n\u001b[0m\u001b[1;32m      2\u001b[0m \u001b[0mwd\u001b[0m \u001b[0;34m=\u001b[0m \u001b[0mlinspace\u001b[0m\u001b[0;34m(\u001b[0m\u001b[0;36m0\u001b[0m\u001b[0;34m,\u001b[0m \u001b[0;36m360\u001b[0m\u001b[0;34m,\u001b[0m \u001b[0;36m37\u001b[0m\u001b[0;34m)\u001b[0m\u001b[0;34m[\u001b[0m\u001b[0;34m:\u001b[0m\u001b[0;34m-\u001b[0m\u001b[0;36m1\u001b[0m\u001b[0;34m]\u001b[0m\u001b[0;34m\u001b[0m\u001b[0m\n",
        "\u001b[0;31mNameError\u001b[0m: name 'linspace' is not defined"
       ]
      }
     ],
     "prompt_number": 8
    },
    {
     "cell_type": "code",
     "collapsed": false,
     "input": [
      "aep = AEP(wt_layout=wt_layout, \n",
      "          wind_rose=wind_rose, \n",
      "          wf=FGCLarsen(),\n",
      "          wind_speeds=ws,\n",
      "          wind_directions=wd,\n",
      "          scaling=1.0,\n",
      "          wt_positions=baseline)\n",
      "aep.run()\n",
      "print 'Net AEP=',aep.net_aep/1e6, 'MWh'\n",
      "\n",
      "\n",
      "# Getting the inputs and outputs of the OpenMDAO components\n"
     ],
     "language": "python",
     "metadata": {},
     "outputs": [
      {
       "ename": "NameError",
       "evalue": "name 'AEP' is not defined",
       "output_type": "pyerr",
       "traceback": [
        "\u001b[0;31m---------------------------------------------------------------------------\u001b[0m\n\u001b[0;31mNameError\u001b[0m                                 Traceback (most recent call last)",
        "\u001b[0;32m<ipython-input-9-a1ea3d85aafc>\u001b[0m in \u001b[0;36m<module>\u001b[0;34m()\u001b[0m\n\u001b[0;32m----> 1\u001b[0;31m aep = AEP(wt_layout=wt_layout, \n\u001b[0m\u001b[1;32m      2\u001b[0m           \u001b[0mwind_rose\u001b[0m\u001b[0;34m=\u001b[0m\u001b[0mwind_rose\u001b[0m\u001b[0;34m,\u001b[0m\u001b[0;34m\u001b[0m\u001b[0m\n\u001b[1;32m      3\u001b[0m           \u001b[0mwf\u001b[0m\u001b[0;34m=\u001b[0m\u001b[0mFGCLarsen\u001b[0m\u001b[0;34m(\u001b[0m\u001b[0;34m)\u001b[0m\u001b[0;34m,\u001b[0m\u001b[0;34m\u001b[0m\u001b[0m\n\u001b[1;32m      4\u001b[0m           \u001b[0mwind_speeds\u001b[0m\u001b[0;34m=\u001b[0m\u001b[0mws\u001b[0m\u001b[0;34m,\u001b[0m\u001b[0;34m\u001b[0m\u001b[0m\n\u001b[1;32m      5\u001b[0m           \u001b[0mwind_directions\u001b[0m\u001b[0;34m=\u001b[0m\u001b[0mwd\u001b[0m\u001b[0;34m,\u001b[0m\u001b[0;34m\u001b[0m\u001b[0m\n",
        "\u001b[0;31mNameError\u001b[0m: name 'AEP' is not defined"
       ]
      }
     ],
     "prompt_number": 9
    },
    {
     "cell_type": "code",
     "collapsed": false,
     "input": [
      "document(CONMINdriver)"
     ],
     "language": "python",
     "metadata": {},
     "outputs": [
      {
       "ename": "NameError",
       "evalue": "name 'document' is not defined",
       "output_type": "pyerr",
       "traceback": [
        "\u001b[0;31m---------------------------------------------------------------------------\u001b[0m\n\u001b[0;31mNameError\u001b[0m                                 Traceback (most recent call last)",
        "\u001b[0;32m<ipython-input-10-5a59d3395b42>\u001b[0m in \u001b[0;36m<module>\u001b[0;34m()\u001b[0m\n\u001b[0;32m----> 1\u001b[0;31m \u001b[0mdocument\u001b[0m\u001b[0;34m(\u001b[0m\u001b[0mCONMINdriver\u001b[0m\u001b[0;34m)\u001b[0m\u001b[0;34m\u001b[0m\u001b[0m\n\u001b[0m",
        "\u001b[0;31mNameError\u001b[0m: name 'document' is not defined"
       ]
      }
     ],
     "prompt_number": 10
    },
    {
     "cell_type": "code",
     "collapsed": false,
     "input": [
      "\n",
      "\n",
      "components = {\n",
      "    'foundation': FoundationLength(borders=borders, scaling=0.0, depth=depth),\n",
      "    'distribute': DistributeXY(wt_layout=wt_layout, borders=borders),\n",
      "    'elnet': ElNetLength(scaling=0.0),\n",
      "    'wt_dist': DistFromTurbines(scaling=wt_desc.rotor_diameter * dist_WT_D),\n",
      "    'dist_from_borders': DistFromBorders(wt_layout=wt_layout, borders=borders, scaling=0.0),\n",
      "    'plotting': OffshorePlot(baseline=baseline, borders=borders, depth=depth, distribution='xy', \n",
      "                             add_inputs=['elnet_length', 'foundation_length', 'min_dist' ],\n",
      "                             title='foundation_length'),\n",
      "    'driver': CONMINOpt()}\n",
      "#COBYLAOpt(rhobeg=1e-2)}\n",
      "\n",
      "workflows =   {'driver': ['distribute', 'foundation','wt_dist', 'elnet', 'dist_from_borders', 'plotting']}\n",
      "\n",
      "#objectives =  {'driver': 'foundation.foundation_length'}\n",
      "objectives =  {'driver': '0.5 * foundation.foundation_length + 0.5*elnet.elnet_length'}\n",
      "\n",
      "constraints = {'driver': ['wt_dist.min_dist>0.8', \n",
      "                          'elnet.elnet_length<1.1', \n",
      "                          'dist_from_borders'\n",
      "                          ]}\n",
      "\n",
      "design_variables = {'driver': 'distribute'}\n",
      "\n",
      "connections = {'distribute.wt_positions': ['foundation.wt_positions',\n",
      "                                            'wt_dist.wt_positions',\n",
      "                                            'plotting.wt_positions',\n",
      "                                           'elnet.wt_positions',\n",
      "                                          'dist_from_borders.wt_positions'],\n",
      "               'foundation.foundation_length': 'plotting.foundation_length',\n",
      "               'foundation.foundations': 'plotting.foundations',\n",
      "               'elnet.elnet_layout': 'plotting.elnet_layout',\n",
      "               'elnet.elnet_length': 'plotting.elnet_length',               \n",
      "               'wt_dist.min_dist': 'plotting.min_dist'}\n",
      "\n",
      "input_parameters = {}\n",
      "\n",
      "top = Topfarm(components, workflows, objectives, constraints, design_variables, connections, input_parameters)\n",
      "top.run()\n"
     ],
     "language": "python",
     "metadata": {},
     "outputs": [
      {
       "ename": "NameError",
       "evalue": "name 'FoundationLength' is not defined",
       "output_type": "pyerr",
       "traceback": [
        "\u001b[0;31m---------------------------------------------------------------------------\u001b[0m\n\u001b[0;31mNameError\u001b[0m                                 Traceback (most recent call last)",
        "\u001b[0;32m<ipython-input-11-703f2ff196c1>\u001b[0m in \u001b[0;36m<module>\u001b[0;34m()\u001b[0m\n\u001b[1;32m      2\u001b[0m \u001b[0;34m\u001b[0m\u001b[0m\n\u001b[1;32m      3\u001b[0m components = {\n\u001b[0;32m----> 4\u001b[0;31m     \u001b[0;34m'foundation'\u001b[0m\u001b[0;34m:\u001b[0m \u001b[0mFoundationLength\u001b[0m\u001b[0;34m(\u001b[0m\u001b[0mborders\u001b[0m\u001b[0;34m=\u001b[0m\u001b[0mborders\u001b[0m\u001b[0;34m,\u001b[0m \u001b[0mscaling\u001b[0m\u001b[0;34m=\u001b[0m\u001b[0;36m0.0\u001b[0m\u001b[0;34m,\u001b[0m \u001b[0mdepth\u001b[0m\u001b[0;34m=\u001b[0m\u001b[0mdepth\u001b[0m\u001b[0;34m)\u001b[0m\u001b[0;34m,\u001b[0m\u001b[0;34m\u001b[0m\u001b[0m\n\u001b[0m\u001b[1;32m      5\u001b[0m     \u001b[0;34m'distribute'\u001b[0m\u001b[0;34m:\u001b[0m \u001b[0mDistributeXY\u001b[0m\u001b[0;34m(\u001b[0m\u001b[0mwt_layout\u001b[0m\u001b[0;34m=\u001b[0m\u001b[0mwt_layout\u001b[0m\u001b[0;34m,\u001b[0m \u001b[0mborders\u001b[0m\u001b[0;34m=\u001b[0m\u001b[0mborders\u001b[0m\u001b[0;34m)\u001b[0m\u001b[0;34m,\u001b[0m\u001b[0;34m\u001b[0m\u001b[0m\n\u001b[1;32m      6\u001b[0m     \u001b[0;34m'elnet'\u001b[0m\u001b[0;34m:\u001b[0m \u001b[0mElNetLength\u001b[0m\u001b[0;34m(\u001b[0m\u001b[0mscaling\u001b[0m\u001b[0;34m=\u001b[0m\u001b[0;36m0.0\u001b[0m\u001b[0;34m)\u001b[0m\u001b[0;34m,\u001b[0m\u001b[0;34m\u001b[0m\u001b[0m\n",
        "\u001b[0;31mNameError\u001b[0m: name 'FoundationLength' is not defined"
       ]
      }
     ],
     "prompt_number": 11
    },
    {
     "cell_type": "code",
     "collapsed": false,
     "input": [
      "\n",
      "components = {\n",
      "    'elnet': ElNetLength(scaling=0.0),\n",
      "    'foundation': FoundationLength(borders=borders, scaling=0.0, depth=depth),\n",
      "    'aep': AEP(wt_layout=wt_layout, \n",
      "               wind_rose=wind_rose, \n",
      "               wf=FGCLarsen(),\n",
      "               wind_speeds=[4, 8, 12],\n",
      "               wind_directions=linspace(0, 360, 12)[:-1],\n",
      "               scaling=0.0),\n",
      "    'area': ConverHullArea(wt_layout=wt_layout, scaling=0.0),\n",
      "    'dist_from_borders': DistFromBorders(wt_layout=wt_layout, borders=borders, scaling=0.0),    \n",
      "    'wt_dist': DistFromTurbines(scaling=wt_desc.rotor_diameter * dist_WT_D),\n",
      "    'distribute': DistributeFilledPolygon(wt_layout=wt_layout, borders=borders),\n",
      "    'plotting': OffshorePlot(baseline=baseline, borders=borders, depth=depth, distribution='xy',\n",
      "                             add_inputs=['area', 'capacity_factor', 'elnet_length', 'net_aep', 'foundation_length', 'min_dist' ],\n",
      "                             title='capacity_factor'),\n",
      "    'driver': COBYLAOpt(rhobeg=1e-2)}\n",
      "workflows =   {'driver': ['distribute', 'foundation', 'elnet', 'aep', 'area', 'dist_from_borders', 'wt_dist', 'plotting']}\n",
      "\n",
      "objectives =  {'driver': '-aep.net_aep'}\n",
      "# objectives =  {'driver': '-aep.net_aep + 0.4*elnet.elnet_length'}\n",
      "#objectives =  {'driver': '-aep.capacity_factor/area.area'}\n",
      "\n",
      "constraints = {'driver': ['wt_dist.min_dist>0.8',\n",
      "                          'foundation.foundation_length<1.02'\n",
      "                         # 'dist_from_borders'\n",
      "                         #'foundation.foundation_length<1.02',\n",
      "                         #'elnet.elnet_length<1.02',\n",
      "                          ]}\n",
      "\n",
      "design_variables = {'driver': 'distribute'}\n",
      "\n",
      "connections = {'distribute.wt_positions': ['foundation.wt_positions',\n",
      "                                            'elnet.wt_positions',\n",
      "                                            'wt_dist.wt_positions',\n",
      "                                            'aep.wt_positions',\n",
      "                                            'plotting.wt_positions',\n",
      "                                           'dist_from_borders.wt_positions',\n",
      "                                           'area.wt_positions'],\n",
      "               'foundation.foundation_length': 'plotting.foundation_length',\n",
      "               'foundation.foundations': 'plotting.foundations',\n",
      "               'elnet.elnet_layout': 'plotting.elnet_layout',\n",
      "               'elnet.elnet_length': 'plotting.elnet_length',\n",
      "               'wt_dist.min_dist': 'plotting.min_dist',\n",
      "               'aep.capacity_factor': 'plotting.capacity_factor',\n",
      "               'aep.net_aep': 'plotting.net_aep',\n",
      "               'area.area': 'plotting.area'}\n",
      "\n",
      "input_parameters = {}\n",
      "top = Topfarm(components, workflows, objectives, constraints, design_variables, connections, input_parameters)\n",
      "top.run()\n",
      "\n"
     ],
     "language": "python",
     "metadata": {},
     "outputs": []
    },
    {
     "cell_type": "code",
     "collapsed": false,
     "input": [
      "baseline = top.distribute.wt_positions\n"
     ],
     "language": "python",
     "metadata": {},
     "outputs": []
    },
    {
     "cell_type": "code",
     "collapsed": false,
     "input": [
      "from openmdao.main.api import Assembly, Component\n",
      "from openmdao.lib.drivers.api import DOEdriver, COBYLAdriver\n",
      "from openmdao.lib.doegenerators.api import Uniform\n",
      "\n",
      "from openmdao.examples.simple.paraboloid import Paraboloid\n",
      "\n",
      "from openmdao.lib.casehandlers.api import JSONCaseRecorder, ListCaseRecorder\n",
      "\n",
      "class Optimization(Assembly):\n",
      "\n",
      "    def configure(self):\n",
      "        self.add('paraboloid', Paraboloid())\n",
      "\n",
      "        self.add('driver', COBYLAdriver())\n",
      "        \n",
      "        self.driver.add_parameter('paraboloid.x', low=-50, high=50)\n",
      "        self.driver.add_parameter('paraboloid.y', low=-50, high=50)\n",
      "\n",
      "        self.driver.add_objective('paraboloid.f_xy')\n",
      "\n",
      "        self.recorders = [ListCaseRecorder()]\n",
      "\n"
     ],
     "language": "python",
     "metadata": {},
     "outputs": []
    },
    {
     "cell_type": "code",
     "collapsed": false,
     "input": [
      "class Analysis(Assembly):\n",
      "    def configure(self):\n",
      "        self.add('paraboloid', Paraboloid())\n",
      "\n",
      "        self.add('driver', DOEdriver())\n",
      "        self.driver.DOEgenerator = Uniform(1000)\n",
      "\n",
      "        self.driver.add_parameter('paraboloid.x', low=-50, high=50)\n",
      "        self.driver.add_parameter('paraboloid.y', low=-50, high=50)\n",
      "\n",
      "        self.driver.add_response('paraboloid.f_xy')\n",
      "\n",
      "        self.recorders = [ListCaseRecorder()]\n",
      "\n",
      "    \n"
     ],
     "language": "python",
     "metadata": {},
     "outputs": []
    },
    {
     "cell_type": "code",
     "collapsed": false,
     "input": [
      "\n",
      "from topfarm.tlib import listcase2df\n",
      "\n",
      "analysis = Optimization()\n",
      "analysis.run()\n",
      "\n",
      "\n",
      "df = listcase2df(analysis.recorders[0])\n",
      "\n"
     ],
     "language": "python",
     "metadata": {},
     "outputs": []
    },
    {
     "cell_type": "code",
     "collapsed": false,
     "input": [
      "\n",
      "get_ipython().magic(u'matplotlib inline')\n",
      "import pylab as plt\n",
      "import numpy as np\n",
      "from fusedwind.fused_helper import *\n",
      "\n"
     ],
     "language": "python",
     "metadata": {},
     "outputs": []
    },
    {
     "cell_type": "code",
     "collapsed": false,
     "input": [
      "\n",
      "def contour_plot(func):\n",
      "    rose = func()\n",
      "    XS, YS = plt.meshgrid(np.linspace(-2, 2, 20), np.linspace(-2,2, 20));\n",
      "    ZS = np.array([rose(x1=x, x2=y).f_xy for x,y in zip(XS.flatten(),YS.flatten())]).reshape(XS.shape);\n",
      "    plt.contourf(XS, YS, ZS, 50);\n",
      "    plt.colorbar()\n",
      "contour_plot(Paraboloid())    \n",
      "\n",
      "df.plot(x='paraboloid.x', y='paraboloid.y', ls='', marker='.')\n",
      "\n"
     ],
     "language": "python",
     "metadata": {},
     "outputs": []
    },
    {
     "cell_type": "code",
     "collapsed": false,
     "input": [],
     "language": "python",
     "metadata": {},
     "outputs": []
    },
    {
     "cell_type": "code",
     "collapsed": false,
     "input": [],
     "language": "python",
     "metadata": {},
     "outputs": []
    },
    {
     "cell_type": "code",
     "collapsed": false,
     "input": [],
     "language": "python",
     "metadata": {},
     "outputs": []
    }
   ],
   "metadata": {}
  }
 ]
}